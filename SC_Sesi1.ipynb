{
  "nbformat": 4,
  "nbformat_minor": 0,
  "metadata": {
    "colab": {
      "provenance": [],
      "authorship_tag": "ABX9TyMqJen2ylQeyjaEiRwSaFpU",
      "include_colab_link": true
    },
    "kernelspec": {
      "name": "python3",
      "display_name": "Python 3"
    },
    "language_info": {
      "name": "python"
    }
  },
  "cells": [
    {
      "cell_type": "markdown",
      "metadata": {
        "id": "view-in-github",
        "colab_type": "text"
      },
      "source": [
        "<a href=\"https://colab.research.google.com/github/nadivaagista07/Scientific-Computing/blob/main/SC_Sesi1.ipynb\" target=\"_parent\"><img src=\"https://colab.research.google.com/assets/colab-badge.svg\" alt=\"Open In Colab\"/></a>"
      ]
    },
    {
      "cell_type": "markdown",
      "source": [
        "SESI 1\n"
      ],
      "metadata": {
        "id": "GphJHNVZjTSS"
      }
    },
    {
      "cell_type": "code",
      "source": [
        "print (\"Hello\")"
      ],
      "metadata": {
        "colab": {
          "base_uri": "https://localhost:8080/"
        },
        "id": "e7wdyTZfjVQp",
        "outputId": "009861d9-f84b-42b0-c425-ad66c5a7e33a"
      },
      "execution_count": null,
      "outputs": [
        {
          "output_type": "stream",
          "name": "stdout",
          "text": [
            "Hello\n"
          ]
        }
      ]
    },
    {
      "cell_type": "code",
      "source": [
        "import time"
      ],
      "metadata": {
        "id": "srvfz3lSjjyg"
      },
      "execution_count": null,
      "outputs": []
    },
    {
      "cell_type": "code",
      "source": [
        "print (time. ctime())"
      ],
      "metadata": {
        "colab": {
          "base_uri": "https://localhost:8080/"
        },
        "id": "vz8GpIjXj0v5",
        "outputId": "24d9c5d2-cc72-4027-c4a1-698c19c18dae"
      },
      "execution_count": null,
      "outputs": [
        {
          "output_type": "stream",
          "name": "stdout",
          "text": [
            "Thu Feb  6 04:43:56 2025\n"
          ]
        }
      ]
    },
    {
      "cell_type": "code",
      "source": [
        "z = \"hello\"\n",
        "y = 20\n",
        "c = 30.9\n",
        "f = [\"Apple\", \"Berry\"]\n",
        "\n",
        "z, y, c, f\n",
        "print (z, y, c, f)"
      ],
      "metadata": {
        "colab": {
          "base_uri": "https://localhost:8080/"
        },
        "id": "iJ1mRzbXkMiQ",
        "outputId": "de321d63-89d2-490d-e160-245463de487e"
      },
      "execution_count": null,
      "outputs": [
        {
          "output_type": "stream",
          "name": "stdout",
          "text": [
            "hello 20 30.9 ['Apple', 'Berry']\n"
          ]
        }
      ]
    },
    {
      "cell_type": "code",
      "source": [
        "o = int (1)\n",
        "y = int (2.8)\n",
        "z = int (\"3\")\n",
        "j = str (20)\n",
        "\n",
        "print (o, y, z, j)"
      ],
      "metadata": {
        "colab": {
          "base_uri": "https://localhost:8080/"
        },
        "id": "GWfqTptQk5cZ",
        "outputId": "07a11be9-095a-43a1-99f7-ec59dd7e7ee8"
      },
      "execution_count": null,
      "outputs": [
        {
          "output_type": "stream",
          "name": "stdout",
          "text": [
            "1 2 3 20\n"
          ]
        }
      ]
    },
    {
      "cell_type": "code",
      "source": [
        "a = \"Hello\"\n",
        "b = \" Word\"\n",
        "c = a + b\n",
        "print (c)"
      ],
      "metadata": {
        "colab": {
          "base_uri": "https://localhost:8080/"
        },
        "id": "mSQrCKx6lesA",
        "outputId": "05cc378a-0183-4856-8e57-fcfef5abcdbf"
      },
      "execution_count": null,
      "outputs": [
        {
          "output_type": "stream",
          "name": "stdout",
          "text": [
            "Hello Word\n"
          ]
        }
      ]
    },
    {
      "cell_type": "code",
      "source": [
        "a = \"Hello Word\"\n",
        "print (a[1])\n",
        "\n",
        "print (len(a))"
      ],
      "metadata": {
        "colab": {
          "base_uri": "https://localhost:8080/"
        },
        "id": "fSvDIsbkl-k7",
        "outputId": "5cfdb936-2ab8-4675-b146-5a730ca60fa8"
      },
      "execution_count": null,
      "outputs": [
        {
          "output_type": "stream",
          "name": "stdout",
          "text": [
            "e\n",
            "10\n"
          ]
        }
      ]
    },
    {
      "cell_type": "code",
      "source": [
        "b = \"Binus Univ\"\n",
        "print (b[2:5])\n",
        "\n",
        "c = \"Binus Univ\"\n",
        "print (c[:5])\n",
        "\n",
        "d = \"Binus Univ\"\n",
        "print (d[2:])\n"
      ],
      "metadata": {
        "colab": {
          "base_uri": "https://localhost:8080/"
        },
        "id": "uXfNXUtxmbI_",
        "outputId": "87729626-7a30-45c8-bda5-2428d37be662"
      },
      "execution_count": null,
      "outputs": [
        {
          "output_type": "stream",
          "name": "stdout",
          "text": [
            "nus\n",
            "Binus\n",
            "nus Univ\n"
          ]
        }
      ]
    },
    {
      "cell_type": "code",
      "source": [
        "a = \"Hello\"\n",
        "print (a.upper())\n",
        "\n",
        "b = \"Hello\"\n",
        "print (a.lower())\n",
        "\n",
        "c = \"Hello\"\n",
        "print (a.replace(\"H\", \"J\"))"
      ],
      "metadata": {
        "colab": {
          "base_uri": "https://localhost:8080/"
        },
        "id": "tgegvVE-nUVH",
        "outputId": "696c3351-b6ca-4968-d5d2-0e4b4199e44c"
      },
      "execution_count": null,
      "outputs": [
        {
          "output_type": "stream",
          "name": "stdout",
          "text": [
            "HELLO\n",
            "hello\n",
            "Jello\n"
          ]
        }
      ]
    },
    {
      "cell_type": "code",
      "source": [
        "nama = \"sam\"\n",
        "x = 19\n",
        "string = \"nama saya {} umur {}\"\n",
        "print (string.format(nama,x))"
      ],
      "metadata": {
        "colab": {
          "base_uri": "https://localhost:8080/"
        },
        "id": "nVzOqwoWoFv1",
        "outputId": "9927abf0-5e07-48e6-a754-d99a90e9bfaf"
      },
      "execution_count": null,
      "outputs": [
        {
          "output_type": "stream",
          "name": "stdout",
          "text": [
            "nama saya sam umur 19\n"
          ]
        }
      ]
    },
    {
      "cell_type": "code",
      "source": [
        "nama = \"Grace\"\n",
        "for i in enumerate (nama):\n",
        "  print (i)"
      ],
      "metadata": {
        "colab": {
          "base_uri": "https://localhost:8080/"
        },
        "id": "rdttXUAUo-JZ",
        "outputId": "a025aa8a-8ebe-4235-85c5-2101c020f01d"
      },
      "execution_count": null,
      "outputs": [
        {
          "output_type": "stream",
          "name": "stdout",
          "text": [
            "(0, 'G')\n",
            "(1, 'r')\n",
            "(2, 'a')\n",
            "(3, 'c')\n",
            "(4, 'e')\n"
          ]
        }
      ]
    },
    {
      "cell_type": "code",
      "source": [
        "def perbandingan (a,b) :\n",
        "  if a>b:\n",
        "    print (\"a lebih dari b\")\n",
        "  if a<b:\n",
        "    print (\"a kurang dari b\")\n",
        "  else :\n",
        "    print (\"a = b\")"
      ],
      "metadata": {
        "id": "3k4x8O18ppsh"
      },
      "execution_count": null,
      "outputs": []
    },
    {
      "cell_type": "code",
      "source": [
        "perbandingan (4,8)"
      ],
      "metadata": {
        "colab": {
          "base_uri": "https://localhost:8080/"
        },
        "id": "Ng4P8iUlqWf8",
        "outputId": "a4bf515b-f871-4167-982d-117ec422fe6f"
      },
      "execution_count": null,
      "outputs": [
        {
          "output_type": "stream",
          "name": "stdout",
          "text": [
            "a kurang dari b\n"
          ]
        }
      ]
    },
    {
      "cell_type": "code",
      "source": [
        "i = 1\n",
        "while i < 6 :\n",
        "  print (i)\n",
        "  i += 1"
      ],
      "metadata": {
        "colab": {
          "base_uri": "https://localhost:8080/"
        },
        "id": "eF1n59Wfq8M0",
        "outputId": "46e49d2a-4d97-4593-a5f7-7b510784d668"
      },
      "execution_count": null,
      "outputs": [
        {
          "output_type": "stream",
          "name": "stdout",
          "text": [
            "1\n",
            "2\n",
            "3\n",
            "4\n",
            "5\n"
          ]
        }
      ]
    },
    {
      "cell_type": "code",
      "source": [
        "i = 3\n",
        "for i in range (0,6):\n",
        "  print (i)"
      ],
      "metadata": {
        "colab": {
          "base_uri": "https://localhost:8080/"
        },
        "id": "yq9WhwyYrUkq",
        "outputId": "8dd327ba-d108-4a76-c8e6-63b4ec6a2691"
      },
      "execution_count": null,
      "outputs": [
        {
          "output_type": "stream",
          "name": "stdout",
          "text": [
            "0\n",
            "1\n",
            "2\n",
            "3\n",
            "4\n",
            "5\n"
          ]
        }
      ]
    },
    {
      "cell_type": "code",
      "source": [
        "for o in range(2, 41):\n",
        "    if o % 2 == 0:\n",
        "        print(o, \"adalah bilangan genap\")\n",
        "    else:\n",
        "        print(o, \"adalah bilangan ganjil\")"
      ],
      "metadata": {
        "colab": {
          "base_uri": "https://localhost:8080/"
        },
        "id": "QZm_rpTvsaPB",
        "outputId": "b7ae14bb-b070-4633-835f-44f6b6c0f3e3"
      },
      "execution_count": null,
      "outputs": [
        {
          "output_type": "stream",
          "name": "stdout",
          "text": [
            "2 adalah bilangan genap\n",
            "3 adalah bilangan ganjil\n",
            "4 adalah bilangan genap\n",
            "5 adalah bilangan ganjil\n",
            "6 adalah bilangan genap\n",
            "7 adalah bilangan ganjil\n",
            "8 adalah bilangan genap\n",
            "9 adalah bilangan ganjil\n",
            "10 adalah bilangan genap\n",
            "11 adalah bilangan ganjil\n",
            "12 adalah bilangan genap\n",
            "13 adalah bilangan ganjil\n",
            "14 adalah bilangan genap\n",
            "15 adalah bilangan ganjil\n",
            "16 adalah bilangan genap\n",
            "17 adalah bilangan ganjil\n",
            "18 adalah bilangan genap\n",
            "19 adalah bilangan ganjil\n",
            "20 adalah bilangan genap\n",
            "21 adalah bilangan ganjil\n",
            "22 adalah bilangan genap\n",
            "23 adalah bilangan ganjil\n",
            "24 adalah bilangan genap\n",
            "25 adalah bilangan ganjil\n",
            "26 adalah bilangan genap\n",
            "27 adalah bilangan ganjil\n",
            "28 adalah bilangan genap\n",
            "29 adalah bilangan ganjil\n",
            "30 adalah bilangan genap\n",
            "31 adalah bilangan ganjil\n",
            "32 adalah bilangan genap\n",
            "33 adalah bilangan ganjil\n",
            "34 adalah bilangan genap\n",
            "35 adalah bilangan ganjil\n",
            "36 adalah bilangan genap\n",
            "37 adalah bilangan ganjil\n",
            "38 adalah bilangan genap\n",
            "39 adalah bilangan ganjil\n",
            "40 adalah bilangan genap\n"
          ]
        }
      ]
    },
    {
      "cell_type": "code",
      "source": [
        "import numpy as np"
      ],
      "metadata": {
        "id": "NXfW4CFFvgNP"
      },
      "execution_count": null,
      "outputs": []
    },
    {
      "cell_type": "code",
      "source": [
        "x = np.array ([[1,2,3],[3,6,7]])\n",
        "x"
      ],
      "metadata": {
        "colab": {
          "base_uri": "https://localhost:8080/"
        },
        "id": "d--LD_ymvkuO",
        "outputId": "55b1ff7e-0655-4c7b-c44d-f05a32847a2f"
      },
      "execution_count": null,
      "outputs": [
        {
          "output_type": "execute_result",
          "data": {
            "text/plain": [
              "array([[1, 2, 3],\n",
              "       [3, 6, 7]])"
            ]
          },
          "metadata": {},
          "execution_count": 46
        }
      ]
    },
    {
      "cell_type": "code",
      "source": [
        "y = np.array ([[8,2,9],[3,5,7]])\n",
        "y"
      ],
      "metadata": {
        "colab": {
          "base_uri": "https://localhost:8080/"
        },
        "id": "07hQCxeBwBdk",
        "outputId": "393d45b1-9173-4f1d-936e-900ed5000a63"
      },
      "execution_count": null,
      "outputs": [
        {
          "output_type": "execute_result",
          "data": {
            "text/plain": [
              "array([[8, 2, 9],\n",
              "       [3, 5, 7]])"
            ]
          },
          "metadata": {},
          "execution_count": 47
        }
      ]
    },
    {
      "cell_type": "code",
      "source": [
        "print (x+y)"
      ],
      "metadata": {
        "colab": {
          "base_uri": "https://localhost:8080/"
        },
        "id": "6d5aYT_QwKPN",
        "outputId": "096df9f9-5eeb-40a1-8323-fa9d967fb9ba"
      },
      "execution_count": null,
      "outputs": [
        {
          "output_type": "stream",
          "name": "stdout",
          "text": [
            "[[ 9  4 12]\n",
            " [ 6 11 14]]\n"
          ]
        }
      ]
    },
    {
      "cell_type": "code",
      "source": [
        "data = np.array ([10,9,8,7,6])\n",
        "print (\"Rata rata:\", np.mean(data))\n",
        "print (\"Maksimum:\", np.max(data))\n",
        "print (\"Minimum:\", np.min(data))\n",
        "print (\"Standar Devisiasi:\", np.std(data))"
      ],
      "metadata": {
        "colab": {
          "base_uri": "https://localhost:8080/"
        },
        "id": "R5UU4xWvwNi_",
        "outputId": "ef5c81f7-635b-4b7f-cf81-4e3a8bbb92b7"
      },
      "execution_count": null,
      "outputs": [
        {
          "output_type": "stream",
          "name": "stdout",
          "text": [
            "Rata rata: 8.0\n",
            "Maksimum: 10\n",
            "Minimum: 6\n",
            "Standar Devisiasi: 1.4142135623730951\n"
          ]
        }
      ]
    },
    {
      "cell_type": "code",
      "source": [
        "def calculate(UAS, UTS, ASG):\n",
        "    return (UAS * 0.5) + (UTS * 0.3) + (ASG * 0.2)\n",
        "\n",
        "def grading(final_score):\n",
        "    if 90 <= final_score <= 100:\n",
        "        return \"A\"\n",
        "    elif 85 <= final_score <= 89:\n",
        "        return \"A-\"\n",
        "    elif 80 <= final_score <= 84:\n",
        "        return \"B+\"\n",
        "    elif 75 <= final_score <= 79:\n",
        "        return \"B\"\n",
        "    elif 70 <= final_score <= 74:\n",
        "        return \"B-\"\n",
        "    elif 65 <= final_score <= 69:\n",
        "        return \"C\"\n",
        "    elif 60 <= final_score <= 64:\n",
        "        return \"D\"\n",
        "    elif 11 <= final_score <= 59:\n",
        "        return \"E\"\n",
        "    else:\n",
        "        return \"F\"\n",
        "\n",
        "while True:\n",
        "    username = input(\"Masukkan username: \")\n",
        "    password = input(\"Masukkan password: \")\n",
        "    if password == \"Admin123\":\n",
        "        print(\"Login berhasil!\\n\")\n",
        "        break\n",
        "    else:\n",
        "        print(\"Password salah! Coba lagi.\\n\")\n",
        "\n",
        "nama = input(\"Masukkan nama mahasiswa: \")\n",
        "\n",
        "def input_nilai(prompt):\n",
        "    while True:\n",
        "        try:\n",
        "            nilai = float(input(prompt))\n",
        "            if 0 <= nilai <= 100:\n",
        "                return nilai\n",
        "            else:\n",
        "                print(\"Nilai harus antara 0 - 100.\")\n",
        "        except ValueError:\n",
        "            print(\"Harap masukkan angka yang valid.\")\n",
        "\n",
        "UAS = input_nilai(\"Masukkan nilai UAS: \")\n",
        "UTS = input_nilai(\"Masukkan nilai UTS: \")\n",
        "ASG = input_nilai(\"Masukkan nilai ASG: \")\n",
        "\n",
        "final_score = calculate(UAS, UTS, ASG)\n",
        "grade = grading(final_score)\n",
        "\n",
        "print(\"\\n============================================\")\n",
        "print(f\"Hasil perolehan nilai {nama}\")\n",
        "print(f\"Final Score: {final_score:.2f}\")\n",
        "print(f\"Grade: {grade}\")\n"
      ],
      "metadata": {
        "colab": {
          "base_uri": "https://localhost:8080/"
        },
        "id": "EPaYnQ0j0xv_",
        "outputId": "a03bae71-9659-406a-c995-91c1887a68f9"
      },
      "execution_count": 3,
      "outputs": [
        {
          "output_type": "stream",
          "name": "stdout",
          "text": [
            "Masukkan username: Nadiva07\n",
            "Masukkan password: Admin123\n",
            "Login berhasil!\n",
            "\n",
            "Masukkan nama mahasiswa: Nadiva Agista\n",
            "Masukkan nilai UAS: 90\n",
            "Masukkan nilai UTS: 85\n",
            "Masukkan nilai ASG: 100\n",
            "\n",
            "============================================\n",
            "Hasil perolehan nilai Nadiva Agista\n",
            "Final Score: 90.50\n",
            "Grade: A\n"
          ]
        }
      ]
    }
  ]
}