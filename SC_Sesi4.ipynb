{
  "nbformat": 4,
  "nbformat_minor": 0,
  "metadata": {
    "colab": {
      "provenance": [],
      "include_colab_link": true
    },
    "kernelspec": {
      "name": "python3",
      "display_name": "Python 3"
    },
    "language_info": {
      "name": "python"
    }
  },
  "cells": [
    {
      "cell_type": "markdown",
      "metadata": {
        "id": "view-in-github",
        "colab_type": "text"
      },
      "source": [
        "<a href=\"https://colab.research.google.com/github/nadivaagista07/Scientific-Computing/blob/main/SC_Sesi4.ipynb\" target=\"_parent\"><img src=\"https://colab.research.google.com/assets/colab-badge.svg\" alt=\"Open In Colab\"/></a>"
      ]
    },
    {
      "cell_type": "code",
      "execution_count": null,
      "metadata": {
        "id": "H9yLJqigFRbG"
      },
      "outputs": [],
      "source": [
        "# Metode Bisection\n",
        "\n",
        "import numpy as np\n",
        "\n",
        "def my_bisection(f, a, b, tol):\n",
        "\n",
        "  if np.sign(f(a)) == np.sign(f(b)):\n",
        "    raise Exception(\n",
        "        \"the scalars a and b do not bound a root\"\n",
        "    )\n",
        "\n",
        "  # buat mid poin / nilai tengah\n",
        "  m = (a+b)/2\n",
        "\n",
        "  if np.abs (f(m)) < tol:\n",
        "    return m\n",
        "  elif np.sign (f(a)) == np.sign(f(m)):\n",
        "    return my_bisection (f, m, b, tol)\n",
        "    # a diganti m agar kebagi 2\n",
        "  elif np.sign (f(b)) == np.sign(f(m)) :\n",
        "    return my_bisection (f, a, m, tol)"
      ]
    },
    {
      "cell_type": "code",
      "source": [
        "f = lambda x: x**2 - 2\n",
        "\n",
        "r1 = my_bisection (f, 0, 2, 0.1)\n",
        "print(\"r1 =\", r1)\n",
        "r01 = my_bisection(f,0, 2, 0.01)\n",
        "print (\"r01 = \", r01)\n",
        "\n",
        "print (\"f(r1) = \", f(r1))\n",
        "print (\"f(r01) = \", f(r01))"
      ],
      "metadata": {
        "colab": {
          "base_uri": "https://localhost:8080/"
        },
        "id": "RsWvXxwHHE7O",
        "outputId": "428129cf-47ae-4f45-dfd9-dac788c4438d"
      },
      "execution_count": null,
      "outputs": [
        {
          "output_type": "stream",
          "name": "stdout",
          "text": [
            "r1 = 1.4375\n",
            "r01 =  1.4140625\n",
            "f(r1) =  0.06640625\n",
            "f(r01) =  -0.00042724609375\n"
          ]
        }
      ]
    },
    {
      "cell_type": "code",
      "source": [
        "# Metode Newton (Rumus 1)\n",
        "\n",
        "import numpy as np\n",
        "f = lambda x: x**2 - 2\n",
        "f_prime = lambda x: 2*x #f_prime itu turunan dari fungsi\n",
        "newton_raphson = 1.4 - (f(1.4) / (f_prime (1.4)))\n",
        "\n",
        "print (\"newton_raphson = \", newton_raphson)\n",
        "print (\"sqrt(2) = \", np.sqrt(2))\n",
        "\n"
      ],
      "metadata": {
        "colab": {
          "base_uri": "https://localhost:8080/"
        },
        "id": "1vynGJrCIVVW",
        "outputId": "eb5a01e3-47cb-4906-e206-93fea73b67b7"
      },
      "execution_count": null,
      "outputs": [
        {
          "output_type": "stream",
          "name": "stdout",
          "text": [
            "newton_raphson =  1.4142857142857144\n",
            "sqrt(2) =  1.4142135623730951\n"
          ]
        }
      ]
    },
    {
      "cell_type": "code",
      "source": [
        "# Metode Newton (Rumus 2)\n",
        "def my_newton (f, df, x0, tol):\n",
        "  if abs (f(x0)) < tol:\n",
        "    return x0\n",
        "  else :\n",
        "    return my_newton(f, df, x0 - f(x0)/df(x0), tol)"
      ],
      "metadata": {
        "id": "4smECpC_JNZn"
      },
      "execution_count": null,
      "outputs": []
    },
    {
      "cell_type": "code",
      "source": [
        "estimate = my_newton (f, f_prime, 1.5, 1e-6)\n",
        "print (\"estimate = \", estimate)\n",
        "print (\"sqrt(2) = \", np.sqrt(2))\n"
      ],
      "metadata": {
        "colab": {
          "base_uri": "https://localhost:8080/"
        },
        "id": "FnAxoDbVJghv",
        "outputId": "7ab9bc28-066a-4d34-b8c5-18cbbff16368"
      },
      "execution_count": null,
      "outputs": [
        {
          "output_type": "stream",
          "name": "stdout",
          "text": [
            "estimate =  1.4142135623746899\n",
            "sqrt(2) =  1.4142135623730951\n"
          ]
        }
      ]
    },
    {
      "cell_type": "code",
      "source": [
        "#metode newton - soal lab - Tanpa estimate\n",
        "\n",
        "import numpy as np\n",
        "\n",
        "# soal: Diketahui: -> f(x) = x^2 - ln (x+2), -> x0 = 1, -> tol = 0,001\n",
        "f = lambda x: x**2 - np.log(x+2)\n",
        "f_prime = lambda x: 2*x - (1 / (x+2))\n",
        "newton_raphson = 1 - (f(1) / (f_prime (1)))\n",
        "\n",
        "print (\"newton_raphson = \", newton_raphson)\n",
        "print (\"sqrt(2) = \", np.sqrt(2))\n",
        "\n"
      ],
      "metadata": {
        "colab": {
          "base_uri": "https://localhost:8080/"
        },
        "id": "gajldYcBM_-x",
        "outputId": "bc4f808c-4591-48db-c42b-76038c2058d2"
      },
      "execution_count": null,
      "outputs": [
        {
          "output_type": "stream",
          "name": "stdout",
          "text": [
            "newton_raphson =  1.059167373200866\n",
            "sqrt(2) =  1.4142135623730951\n"
          ]
        }
      ]
    },
    {
      "cell_type": "code",
      "source": [
        "#metode newton - soal lab - dengan estimate\n",
        "def my_newton (f, df, x0, tol):\n",
        "  if abs (f(x0)) < tol:\n",
        "    return x0\n",
        "  else :\n",
        "    return my_newton(f, df, x0 - f(x0)/df(x0), tol)"
      ],
      "metadata": {
        "id": "mxojgAa6YNtp"
      },
      "execution_count": null,
      "outputs": []
    },
    {
      "cell_type": "code",
      "source": [
        "estimate = my_newton (f, f_prime, 1, 0.001)\n",
        "print (\"estimate = \", estimate)\n",
        "print (\"sqrt(2) = \", np.sqrt(2))"
      ],
      "metadata": {
        "colab": {
          "base_uri": "https://localhost:8080/"
        },
        "id": "Ct9Zl-uBYlKj",
        "outputId": "7a851f90-1252-489f-8445-6594eeda9600"
      },
      "execution_count": null,
      "outputs": [
        {
          "output_type": "stream",
          "name": "stdout",
          "text": [
            "estimate =  1.0571060546915994\n",
            "sqrt(2) =  1.4142135623730951\n"
          ]
        }
      ]
    },
    {
      "cell_type": "code",
      "source": [
        "# Soal Lab - Bisection\n",
        "\n",
        "f = lambda x: np.cos(x) - x\n",
        "r1=my_bisection(f, 0, 1, 0.0001)\n",
        "print (\"r1 =\",r1)\n",
        "r01 = my_bisection (f, 0, 1, 0.001)\n",
        "print (\"r01 = \", r01)\n",
        "\n",
        "print (\"f(r1) = \", f(r1))\n",
        "print (\"f(r01) = \", f(r01))\n"
      ],
      "metadata": {
        "colab": {
          "base_uri": "https://localhost:8080/"
        },
        "id": "cjrI7fIyQHVY",
        "outputId": "745c26fa-a5ed-4265-c2ad-471c389524e8"
      },
      "execution_count": null,
      "outputs": [
        {
          "output_type": "stream",
          "name": "stdout",
          "text": [
            "r1 = 0.7391357421875\n",
            "r01 =  0.7392578125\n",
            "f(r1) =  -8.470073137478717e-05\n",
            "f(r01) =  -0.0002890091467900868\n"
          ]
        }
      ]
    },
    {
      "cell_type": "code",
      "source": [
        "#Bisection (MODUL)\n",
        "#f(x) = X^3 - 3*x**2 + 2*x\n",
        "#[a,b]= [1,2]\n",
        "#tol = 0,01\n",
        "\n",
        "f = lambda x: x**3 - 3*x**2 + 2*x\n",
        "\n",
        "r1 = my_bisection (f, 1.1, 2, 0.01)\n",
        "print(\"r1 =\", r1)\n",
        "r01 = my_bisection(f, 1.1, 2, 0.01)\n",
        "print (\"r01 = \", r01)\n",
        "\n",
        "print (\"f(r1) = \", f(r1))\n",
        "print (\"f(r01) = \", f(r01))"
      ],
      "metadata": {
        "colab": {
          "base_uri": "https://localhost:8080/"
        },
        "id": "lP7w3vljUCT5",
        "outputId": "dcafa2b1-5b10-4dd2-b53a-8ebde7ef34c4"
      },
      "execution_count": null,
      "outputs": [
        {
          "output_type": "stream",
          "name": "stdout",
          "text": [
            "r1 = 1.996484375\n",
            "r01 =  1.996484375\n",
            "f(r1) =  -0.006994214594365111\n",
            "f(r01) =  -0.006994214594365111\n"
          ]
        }
      ]
    },
    {
      "cell_type": "code",
      "source": [
        "#Bisection (MODUL)\n",
        "# -> f(x) = sin(x) - x\n",
        "# -> [a,b] = [0, 1]\n",
        "# -> tol = 0,001\n",
        "\n",
        "f = lambda x: np.sin(x) - x\n",
        "\n",
        "r1 = my_bisection (f, 0, 1, 0.001)\n",
        "print(\"r1 =\", r1)\n",
        "r01 = my_bisection (f, 0, 1, 0.001)\n",
        "print (\"r01 = \", r01)\n",
        "\n",
        "print (\"f(r1) = \", f(r1))\n",
        "print (\"f(r01) = \", f(r01))"
      ],
      "metadata": {
        "colab": {
          "base_uri": "https://localhost:8080/"
        },
        "id": "pa4EAkotU_Ns",
        "outputId": "61f78d54-4010-47fd-920f-924b386574f5"
      },
      "execution_count": null,
      "outputs": [
        {
          "output_type": "stream",
          "name": "stdout",
          "text": [
            "r1 = 0.125\n",
            "r01 =  0.125\n",
            "f(r1) =  -0.0003252666147723071\n",
            "f(r01) =  -0.0003252666147723071\n"
          ]
        }
      ]
    },
    {
      "cell_type": "code",
      "source": [
        "# Diketahui : (NEWTON-RAPHSON)\n",
        "# f(x) = x^3 - 3*x^2 + 2*x\n",
        "# x0 = 1.5\n",
        "# tol = 0,01\n",
        "\n",
        "import numpy as np\n",
        "f = lambda x: x**3 - 3*x**2 + 2*x\n",
        "f_prime = lambda x: 3*x**2 - 6*x + 2\n",
        "newton_raphson = 1.5 - (f(1.5) / (f_prime (1.5)))\n",
        "\n",
        "print (\"newton_raphson = \", newton_raphson)\n",
        "print (\"sqrt(2) = \", np.sqrt(2))"
      ],
      "metadata": {
        "colab": {
          "base_uri": "https://localhost:8080/"
        },
        "id": "-25T2YeXGd_F",
        "outputId": "8c5ef782-578b-4663-9a3b-e821db0c840c"
      },
      "execution_count": null,
      "outputs": [
        {
          "output_type": "stream",
          "name": "stdout",
          "text": [
            "newton_raphson =  0.0\n",
            "sqrt(2) =  1.4142135623730951\n"
          ]
        }
      ]
    },
    {
      "cell_type": "code",
      "source": [
        "def my_newton (f, df, x0, tol):\n",
        "  if abs (f(x0)) < tol:\n",
        "    return x0\n",
        "  else :\n",
        "    return my_newton(f, df, x0 - f(x0)/df(x0), tol)"
      ],
      "metadata": {
        "id": "yKi8ClrUay1Q"
      },
      "execution_count": null,
      "outputs": []
    },
    {
      "cell_type": "code",
      "source": [
        "estimate = my_newton (f, f_prime, 1.5, 0.01)\n",
        "print (\"estimate = \", estimate)\n",
        "print (\"sqrt(2) = \", np.sqrt(2))\n"
      ],
      "metadata": {
        "colab": {
          "base_uri": "https://localhost:8080/"
        },
        "id": "pGxWmSJCa4wr",
        "outputId": "2b1f7068-d967-4a3b-c8a3-d4478bc8ac00"
      },
      "execution_count": null,
      "outputs": [
        {
          "output_type": "stream",
          "name": "stdout",
          "text": [
            "estimate =  0.0\n",
            "sqrt(2) =  1.4142135623730951\n"
          ]
        }
      ]
    },
    {
      "cell_type": "code",
      "source": [
        "# Diketahui: (NEWTON-RAPHSON)\n",
        "# f(x) = e^x - 2*x\n",
        "# x0 = 1\n",
        "# tol = 0,001\n",
        "\n",
        "import numpy as np\n",
        "f = lambda x: np.exp(x) - 2*x\n",
        "f_prime = lambda x: np.exp(x) - 2\n",
        "newton_raphson = 1 - (f(1)) / (f_prime (1))\n",
        "\n",
        "\n",
        "print (\"newton_raphson = \", newton_raphson)\n",
        "print (\"sqrt(2) = \", np.sqrt(2))"
      ],
      "metadata": {
        "colab": {
          "base_uri": "https://localhost:8080/"
        },
        "id": "kpDpBCaBRADl",
        "outputId": "bf0dd0e2-0473-4bf3-8e3b-55c5c8537e3a"
      },
      "execution_count": 62,
      "outputs": [
        {
          "output_type": "stream",
          "name": "stdout",
          "text": [
            "newton_raphson =  0.0\n",
            "sqrt(2) =  1.4142135623730951\n"
          ]
        }
      ]
    }
  ]
}