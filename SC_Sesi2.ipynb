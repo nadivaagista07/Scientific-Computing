{
  "nbformat": 4,
  "nbformat_minor": 0,
  "metadata": {
    "colab": {
      "provenance": [],
      "authorship_tag": "ABX9TyMIUry4oBQApFcoCRbn5aJE",
      "include_colab_link": true
    },
    "kernelspec": {
      "name": "python3",
      "display_name": "Python 3"
    },
    "language_info": {
      "name": "python"
    }
  },
  "cells": [
    {
      "cell_type": "markdown",
      "metadata": {
        "id": "view-in-github",
        "colab_type": "text"
      },
      "source": [
        "<a href=\"https://colab.research.google.com/github/nadivaagista07/Scientific-Computing/blob/main/SC_Sesi2.ipynb\" target=\"_parent\"><img src=\"https://colab.research.google.com/assets/colab-badge.svg\" alt=\"Open In Colab\"/></a>"
      ]
    },
    {
      "cell_type": "markdown",
      "source": [
        "**Modul Sesi 2 - System of Linear Equation and Regression**"
      ],
      "metadata": {
        "id": "HJBlhEnt4atT"
      }
    },
    {
      "cell_type": "markdown",
      "source": [
        "1.Diketahui persamaan berikut:\n",
        "\n",
        "2x + 3y -z = 10\n",
        "\n",
        "x - y + 2z = 4\n",
        "\n",
        "3x + 2y + z = 14\n",
        "\n",
        "\n",
        "a.\tTentukan nilai x, y, z dengan metode Gauss Seidel. Gunakan nilai initial: x = 5, y = 5, z = 5 dengan error tolerance = 0.001\n",
        "\n",
        "b.\tBandingkan hasilnya dengan menggunakan library Numpy"
      ],
      "metadata": {
        "id": "3tf6d2F64kH2"
      }
    },
    {
      "cell_type": "code",
      "source": [
        "#1.a\n",
        "def gauss_seidel(A, B, X, tolerance=0.001, max_iter=100):\n",
        "    n = len(B)\n",
        "    X_new = X[:]\n",
        "\n",
        "    for iteration in range(max_iter):\n",
        "        X_old = X_new[:]\n",
        "\n",
        "        for i in range(n):\n",
        "            if A[i][i] == 0:\n",
        "                raise ValueError(\"Matriks tidak dapat diselesaikan dengan Gauss-Seidel (pembagian dengan nol).\")\n",
        "\n",
        "            sum_ax = sum(A[i][j] * X_new[j] for j in range(n) if j != i)\n",
        "            X_new[i] = (B[i] - sum_ax) / A[i][i]\n",
        "\n",
        "        error = max(abs(X_new[i] - X_old[i]) for i in range(n))\n",
        "\n",
        "        if error < tolerance:\n",
        "            print(f\"Konvergen setelah {iteration + 1} iterasi.\")\n",
        "            return X_new, iteration + 1\n",
        "\n",
        "    raise ValueError(\"Metode Gauss-Seidel tidak konvergen setelah {} iterasi.\".format(max_iter))\n",
        "\n",
        "A1 = [\n",
        "    [2, 3, -1],\n",
        "    [1, -1, 2],\n",
        "    [3, 2, 1]\n",
        "]\n",
        "B1 = [10, 4, 14]\n",
        "X1 = [5.0, 5.0, 5.0]\n",
        "\n",
        "try:\n",
        "    hasil_gs_1, iterasi = gauss_seidel(A1, B1, X1)\n",
        "    print(\"\\n Hasil Gauss-Seidel:\")\n",
        "    print(f\"x = {hasil_gs_1[0]:.4f}, y = {hasil_gs_1[1]:.4f}, z = {hasil_gs_1[2]:.4f}\")\n",
        "    print(f\" Iterasi yang dibutuhkan: {iterasi}\")\n",
        "except ValueError as e:\n",
        "    print(e)\n"
      ],
      "metadata": {
        "colab": {
          "base_uri": "https://localhost:8080/"
        },
        "id": "w_yqgNH94qA5",
        "outputId": "190433f6-e6d5-4602-8081-e3fff7463525"
      },
      "execution_count": 32,
      "outputs": [
        {
          "output_type": "stream",
          "name": "stdout",
          "text": [
            "Metode Gauss-Seidel tidak konvergen setelah 100 iterasi.\n"
          ]
        }
      ]
    },
    {
      "cell_type": "code",
      "source": [
        "import numpy as np\n",
        "\n",
        "A = np.array([[2, 3, -1],\n",
        "              [1, -1, 2],\n",
        "              [3, 2, 1]])\n",
        "\n",
        "y = np.array([10, 4, -14])\n",
        "\n",
        "x = np.linalg.solve(A, y)\n",
        "print(x)"
      ],
      "metadata": {
        "colab": {
          "base_uri": "https://localhost:8080/"
        },
        "id": "lrB4ZtWM40PS",
        "outputId": "14bfb287-4b93-45b7-e47e-cd582a779035"
      },
      "execution_count": 23,
      "outputs": [
        {
          "output_type": "stream",
          "name": "stdout",
          "text": [
            "[-6.30503948e+16  6.30503948e+16  6.30503948e+16]\n"
          ]
        }
      ]
    },
    {
      "cell_type": "markdown",
      "source": [
        "2.\tDiketahui persamaan berikut:\n",
        "\n",
        "3x - 0.1y - 0.2z = 7.85\n",
        "\n",
        "0.1x + 7y - 0.3z = -19.3\n",
        "\n",
        "0.3x - 0.2y + 10z = 71.4\n",
        "\n",
        "a.\tTentukan nilai x, y, z dengan metode Gauss Seidel. Gunakan nilai initial: x = 1, y = 2, z = 3 dengan error tolerance = 0.001\n",
        "\n",
        "b.\tBandingkan hasilnya dengan menggunakan library Numpy"
      ],
      "metadata": {
        "id": "vdXCzdav86TK"
      }
    },
    {
      "cell_type": "code",
      "source": [
        "#2.a\n",
        "import numpy as np\n",
        "\n",
        "A = np.array([\n",
        "    [3, -0.1, -0.2],\n",
        "    [0.1, 7, -0.3],\n",
        "    [0.3, -0.2, 10]\n",
        "])\n",
        "\n",
        "diag = np.diag(np.abs(A))\n",
        "off_diag = np.sum(np.abs(A), axis=1) - diag\n",
        "\n",
        "if np.all(diag > off_diag):\n",
        "    print(\"Matrix is diagonally dominant\")\n",
        "else:\n",
        "    print(\"Matrix is NOT diagonally dominant\")\n",
        "\n",
        "x1, x2, x3 = 1, 2, 3\n",
        "epsilon = 0.001\n",
        "converged = False\n",
        "\n",
        "x_old = np.array([x1, x2, x3])\n",
        "\n",
        "print(\"Iteration results:\")\n",
        "print(\" k,    x1,    x2,    x3 \")\n",
        "\n",
        "# Iterasi metode Gauss-Seidel\n",
        "for k in range(1, 20):\n",
        "    x1 = (7.85 + 0.1 * x2 + 0.2 * x3) / 3\n",
        "    x2 = (-19.3 - 0.1 * x1 + 0.3 * x3) / 7\n",
        "    x3 = (71.4 - 0.3 * x1 + 0.2 * x2) / 10\n",
        "\n",
        "    x = np.array([x1, x2, x3])\n",
        "\n",
        "    dx = np.sqrt(np.dot(x - x_old, x - x_old))\n",
        "\n",
        "    print(\"%d, %.4f, %.4f, %.4f\" % (k, x1, x2, x3))\n",
        "\n",
        "    if dx < epsilon:\n",
        "        converged = True\n",
        "        print(\"Converged!\")\n",
        "        break\n",
        "\n",
        "    x_old = x\n",
        "\n",
        "if not converged:\n",
        "    print(\"Not converged, increase the # of iterations\")\n"
      ],
      "metadata": {
        "colab": {
          "base_uri": "https://localhost:8080/"
        },
        "id": "8bTx1GHQ9R27",
        "outputId": "9d155a93-5dae-4c85-9a83-1fcb60c34a5f"
      },
      "execution_count": 33,
      "outputs": [
        {
          "output_type": "stream",
          "name": "stdout",
          "text": [
            "Matrix is diagonally dominant\n",
            "Iteration results:\n",
            " k,    x1,    x2,    x3 \n",
            "1, 2.8833, -2.6698, 7.0001\n",
            "2, 2.9943, -2.4999, 7.0002\n",
            "3, 3.0000, -2.5000, 7.0000\n",
            "4, 3.0000, -2.5000, 7.0000\n",
            "Converged!\n"
          ]
        }
      ]
    },
    {
      "cell_type": "code",
      "source": [
        "import numpy as np\n",
        "\n",
        "A = np.array([[3, -0.1, -0.2],\n",
        "              [0.1, 7, -0.3],\n",
        "              [0.3, -0.2, 10]])\n",
        "\n",
        "y = np.array([7.85, -19.3, 71.4])\n",
        "\n",
        "x = np.linalg.solve(A, y)\n",
        "print(x)"
      ],
      "metadata": {
        "colab": {
          "base_uri": "https://localhost:8080/"
        },
        "id": "y0xZ_FXE9qK4",
        "outputId": "eec27301-f27c-46bb-af88-45d4f2b2591c"
      },
      "execution_count": 28,
      "outputs": [
        {
          "output_type": "stream",
          "name": "stdout",
          "text": [
            "[ 3.  -2.5  7. ]\n"
          ]
        }
      ]
    },
    {
      "cell_type": "markdown",
      "source": [
        "\n",
        "\n",
        "4.a.\tTentukan nilai alpha variabel (nilai a dan b pada persamaan y=ax+b) dengan Least Square Method\n",
        "\n",
        "b.\tBuatlah plot hasil regresi kalian bersama dengan titik-titik pada soal"
      ],
      "metadata": {
        "id": "cBfrE9yK_dD4"
      }
    },
    {
      "cell_type": "markdown",
      "source": [
        "![download.png](data:image/png;base64,iVBORw0KGgoAAAANSUhEUgAAAi0AAACTCAIAAADN1L4JAAAAAXNSR0IArs4c6QAACzVJREFUeJzt3bFv20Ybx/HjC68N4HQzAg+k/oR2CaQMHUKic4GQmQx0IhF0CqSm9WgUleCimw8NEMCTyQJdG5gZOkREhiBrN5FDBm+B/wS+wxkH1nZNii51svj9LLZOGp7lwU+6O95ZZVkKAAAM+Z/pAgAAvUYOAQBM2hJCWJZlugwAQO+ohaGt6gsAS7Esi94B2tE/gZiXAwCYRA4BAEwihwAAJpFDAACTyCEAgEk1OfT69WvLsizLev36tR788ccfLcu6f/9+9+UBd5Xv+5Zlffnll9XBwWBgWZbv++bqAtZOTQ59/fXXjuMIIb777js1UhTFTz/9JIT4/vvvV1IhcCc9e/ZMCPHhw4ckSdRIkiR5nuu3ACj183IHBwdCiDzPVTsdHh4KIRzHGY/HK6kQuJOGw6HrukKI/f19NfLLL78IIVzXHQ6HpqsD1ohVlmXts3ie56Vp6jjO8fHxaDQSQsRxzNwCcHPvZFmm+uXPP/+8d++e+n8+n5NDQLV9GuWQbqft7e3z83PXdU9PT1dYLbCmGn6Hc13Xtm0p5ZMnT/Q0HdBzy+WQWnT9/fff1f98oQOU5t/hlDzPbdteSWnAutPt03Tf9ocPH/T/f//9d2eFARtFrxIJIcIwJISAqxrl0G+//Zbn+fb29hdffCGEePHixadPn7qvDdgEeq/p06dPTdcCrKP6HPr06dOLFy/URu1ff/1VCHF+fv7q1auVlAfceffu3TNdArDW6nPo1atX5+fn29vb33777XA4fPLkiRDi559/LopiJRUCADZZTQ4VRTGZTNSPoc8//1wIoR5iPT8/Vw8SAQBwGzU5pObf1I8hNWLb9g8//CCEkFKySgTU+uyzzy79A6Cq6b5tAFfRO0BrS+/bBgCgC+QQAMAkcggAYNKW+mNZlulKgDuJ3gFu6SKHWGsFWmCfAtCa/g7HvBwAwCRyCABgEjkEADCJHAIAmEQOAQBMqs+hJEmsf/I8byW1ARtCNc7VI+qjKNJtFUWRoeoAw7ZqP/Hx40fuMwbaiaJISnntW57npWmqtn3r68OPjo5WXiNgGPNyQFeSJJFSxnE8nU4vvZVlWZqm8/lcvRwOh2EYSim51gs9RA4BXfF9vyxL3/evvnVycqLiR488evRICHF2drbaGgHzyCHAgKIoHMepjjx48EAI8e7dO3NFAWY0zSHHcdRq6mAw6LgkoI92dnZMlwCYUZ9D4/G4rMjznIMdAQD/laXn5dTKapIk3dQD9Nru7q7pEoBVWzqH1OyB2swNoB3btvM8r468f/9erxIBvbJ0DqluefjwYTf1AL2gdsdlWaZH3r59e2kHHdAT9TlUXQ0qiiIIAtd16RbgNnzfdxxnb29PvcyyTEp59TEjoA/qcygMQ330iOM40+n09PR0JbUBd5s+E2symehNp/r8nsVioY/8GY1GcRyPx2PTJQMGWGVZcqck0A69A7Sm24fnWAEAJpFDAACTyCEAgEnkEADApIv7hziqB2iH3gFu6SKH2PMDtMB+OaA1/R2OeTkAgEnkEADAJHIIAGASOQQAMIkcAgCYtEQOFUWhzmTkEjygIX3UqVK96AGAskQO6XOCATQxm82CIJjP52VZlmUZhuFoNCqKwnRdwHppmkNJkqRpGsdxx/UAm+Ovv/6qXtb1/PlzfZMkAK1pDu3v70+nUy4tBpaiLhlSzs7OjNYCrKlGOTSbzfI855IuYCn7+/t5ng8GA7W8OhqNXNf1fd90XcB6qc+hoigmkwkzcsCyhsPhfD7P85y7jIEb1OfQ4eEhX+KAdk5OTtSN4EKIyWQym81MVwSsna2b386yTEqZ5/mq6gE2h+d5aZrmeW7bttpxOplMhBBMcQNVVlmWN5wZPJvNVOdcpbsL6K0beqcoCjUXV00dtVZU3bwA9JZun5p5ufF4XFbM53MhRBzHZVkSQsAN1O643d3d6qDKIQBVnOsDdGI4HDqOEwSBHlEP4R0cHBitC1g7NetDAFpbLBae51UvbJ3P5/qxVgBKzfoQgBvQO0BrTdeHAADoFDkEADCJHAIAmHSxT6G6lAqgOXoHuKWLHGKtFWiBfQpAa/o7HPNyAACTyCEAgEnkEADAJHIIAGASOQQAMKlpDiVJYlVkWdZxYcDmUF1TFEV18FJPXXoX6I9GORRFURAE8/lcXwDBWY1AE1EUXfuAUVEUQRDohnIcx3Ecogj9VJ9D6krWOI7JHmApSZKo3plOp5fesm27+uDR8fGxEOKPP/5YeY2AefU5dHJyIoTwfX8l9QCbw/f9siyb9M7Ozs5KKgLWUX0OvXnzxnXdlRQD9NS1l7cCPVGfQ3me27Y9GAz0gmoURSupDegLdUkrsw7op0b7FKSUb968UQuqcRxLKWezWfe1Ab2g7guP49h0IYAZjXIoDEPbttX/vu87jvPy5cuOCwN6IcuyIAjCMOTHEHqrPoeubicdDAZdlgT0RVEUo9HIdd2joyPTtQDG1OfQ48eP0zStjqRp+vjx4y6rAnpBPTZ0enpquhDApPocevr0qRBCLwipTQrPnz/vvjZgk6l5hcViYboQwDCrLMvau7yyLBuNRvolF38Bys29kyRJEASXBsMwPDo6uvYtvT21g0qBtaPbp1EOAbgWvQO0ptuH87YBACaRQwAAk8ghAIBJ5BAAwKQt9efaK1IA1KJ3gFu6yCH2/AAtsF8OaE1/h2NeDgBgEjkEADCJHAIAmEQOAQBMIocAACbV5FBRFNZ1PM9bVYXAnae65tI9XloURZZlca0Xeqsmh2zbLv8pz3MhxFdffbWqCoE7TGXMDR/IskxKucKKgLWz9Lzc4eGhEGI8HndTD7A5kiSRUsZxPJ1O/+0ze3t7YRi6rrva0oA1snQOSSnDMOymGGCj+L5flqXv+//2gSRJ8jznUnD03HI5pG5lVTe0ArilIAhu+KkE9MRyOfTy5UvXdYfDYWf1AH0RRZHjOExxA1vNP6rmEA4ODrqsB+iFoiiklPP53HQhgHlL/B46Pj5WU95d1gP0QhRFYRgytQAs8Xsoy7I0TZnLBv4TaZqqXT/VQcuywjBk2wL6pmkOnZycCCG++eabjusBeuHSbRGe5y0Wi8ViYa4iwJim83JSStd1bdvuuB4AQL80yiG1XXt/f7/7eoDNkSSJOtFnMpkIIRzHsSwriiLTdQHrxSrLkjslgXboHaA13T6ctw0AMIkcAgCYRA4BAEy62Ld989H0AP4NvQPc0kUOsdYKtMA+BaA1/R2OeTkAgEnkEADAJHIIAGASOQQAMIkcAgCYVJ9D+owszfO8ldQGbAjVOEVRXBqPoki3FefOobfq7334+PGjECLPcw7bBpYVRdGlS4Y0z/PSNFXbvrMsG41GQgguH0IPMS8HdCVJEillHMdXL5BUF0vqe8GHw2EYhlLKq7+ZgI1HDgFd8X2/LEvf96++pS6WrN4L/ujRIyHE2dnZamsEzCOHAAOKonAcpzry4MEDIcS7d+/MFQWY0TSH1BVelmUNBoOOSwL6aGdnx3QJgBn1OTQej8uKPM852BEA8F9Zel5OrawmSdJNPUCv7e7umi4BWLWlc0jNHqjN3ADasW07z/PqyPv37/UqEdArS+eQ6paHDx92Uw/QC2p3XJZleuTt27eXdtABPVGfQ9XVoKIogiBwXZduAW7D933Hcfb29tTLLMuklFcfMwL6oD6HwjDUR484jjOdTk9PT1dSG3C36TOxJpOJ3nSqz+9ZLBb6yJ/RaBTH8Xg8Nl0yYIBVliV3SgLt0DtAa7p9eI4VAGASOQQAMIkcAgCYdHHvA0ckAO3QO8AtscoKADCJeTkAgEnkEADApP8DqtocC7J9rnQAAAAASUVORK5CYII=)"
      ],
      "metadata": {
        "id": "92qwYyug_E6_"
      }
    },
    {
      "cell_type": "code",
      "source": [
        "import numpy as np\n",
        "\n",
        "X = np.array([5, 4, 6, 7, 5])\n",
        "Y = np.array([10, 8, 12, 14, 10])\n",
        "\n",
        "n = len(X)\n",
        "X_mean = np.mean(X)\n",
        "Y_mean = np.mean(Y)\n",
        "\n",
        "# Rumus Least Squares Method\n",
        "a = np.sum((X - X_mean) * (Y - Y_mean)) / np.sum((X - X_mean) ** 2)\n",
        "b = Y_mean - a * X_mean\n",
        "\n",
        "print(f\"Persamaan regresi: y = {a:.4f}x + {b:.4f}\")\n"
      ],
      "metadata": {
        "colab": {
          "base_uri": "https://localhost:8080/"
        },
        "id": "UTF7qdeg_fKL",
        "outputId": "812bf62d-9cb8-44b8-c40b-5032a72540ab"
      },
      "execution_count": 34,
      "outputs": [
        {
          "output_type": "stream",
          "name": "stdout",
          "text": [
            "Persamaan regresi: y = 2.0000x + 0.0000\n"
          ]
        }
      ]
    },
    {
      "cell_type": "code",
      "source": [
        "import matplotlib.pyplot as plt\n",
        "\n",
        "X_reg = np.linspace(min(X) - 1, max(X) + 1, 100)\n",
        "Y_reg = a * X_reg + b\n",
        "\n",
        "plt.scatter(X, Y, color='blue', label='Data Asli')\n",
        "\n",
        "plt.plot(X_reg, Y_reg, color='red', label=f'Regresi Linear: y={a:.2f}x+{b:.2f}')\n",
        "\n",
        "plt.xlabel('X')\n",
        "plt.ylabel('Y')\n",
        "plt.title('Regresi Linear dengan Least Squares Method')\n",
        "plt.legend()\n",
        "plt.grid()\n",
        "\n",
        "plt.show()\n"
      ],
      "metadata": {
        "colab": {
          "base_uri": "https://localhost:8080/",
          "height": 472
        },
        "id": "GkaXS6Gz_tGU",
        "outputId": "6622ceeb-3ff8-47c3-bae1-c7aa62a03790"
      },
      "execution_count": 35,
      "outputs": [
        {
          "output_type": "display_data",
          "data": {
            "text/plain": [
              "<Figure size 640x480 with 1 Axes>"
            ],
            "image/png": "[encoded data removed]"
          },
          "metadata": {}
        }
      ]
    }
  ]
}